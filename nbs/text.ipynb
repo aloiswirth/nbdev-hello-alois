{
 "cells": [
  {
   "cell_type": "markdown",
   "id": "f38f27bf-fa99-4df0-b963-57771436d616",
   "metadata": {},
   "source": [
    "# Text\n",
    "\n",
    "> this will serve some text processing. "
   ]
  },
  {
   "cell_type": "code",
   "execution_count": null,
   "id": "1dba94b1-baae-482f-b7a4-5a0d96125b9d",
   "metadata": {},
   "outputs": [],
   "source": [
    "#| default_exp text"
   ]
  },
  {
   "cell_type": "code",
   "execution_count": null,
   "id": "64e3636a-65cc-4449-9a53-12dfa6b72508",
   "metadata": {},
   "outputs": [],
   "source": [
    "#| export\n",
    "\n",
    "new_line = \"This is my new line\""
   ]
  },
  {
   "cell_type": "code",
   "execution_count": null,
   "id": "0a223985-25c2-4efe-88a6-f4dd9ea16927",
   "metadata": {},
   "outputs": [],
   "source": [
    "#| hide\n",
    "import nbdev; nbdev.nbdev_export()"
   ]
  },
  {
   "cell_type": "code",
   "execution_count": null,
   "id": "11e8dc84-a769-4420-8ceb-7d7c85c94517",
   "metadata": {},
   "outputs": [],
   "source": []
  }
 ],
 "metadata": {
  "kernelspec": {
   "display_name": "Python 3 (ipykernel)",
   "language": "python",
   "name": "python3"
  }
 },
 "nbformat": 4,
 "nbformat_minor": 5
}
