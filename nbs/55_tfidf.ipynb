{
 "cells": [
  {
   "attachments": {},
   "cell_type": "markdown",
   "metadata": {},
   "source": [
    "# TFIDF"
   ]
  },
  {
   "cell_type": "code",
   "execution_count": null,
   "metadata": {},
   "outputs": [],
   "source": [
    "#| default_exp tfidf_small"
   ]
  },
  {
   "cell_type": "code",
   "execution_count": null,
   "metadata": {},
   "outputs": [],
   "source": [
    "#| export\n",
    "from sklearn.feature_extraction.text import TfidfVectorizer"
   ]
  },
  {
   "cell_type": "code",
   "execution_count": null,
   "metadata": {},
   "outputs": [],
   "source": [
    "#| export\n",
    "corpus = [\n",
    "    'This is the first document.',\n",
    "    'This document is the second document.',\n",
    "    'And this is the third one.',\n",
    "    'Is this the first document?',\n",
    "    'why do I do this',\n",
    "    'Where does the universe come from?',\n",
    "    'how will the Vectorizer matrix look like?'\n",
    "]\n",
    "vectorizer = TfidfVectorizer(max_features=10)\n",
    "X = vectorizer.fit_transform(corpus)\n"
   ]
  },
  {
   "cell_type": "code",
   "execution_count": null,
   "metadata": {},
   "outputs": [
    {
     "data": {
      "text/plain": [
       "array(['and', 'do', 'document', 'first', 'is', 'the', 'this', 'universe',\n",
       "       'vectorizer', 'where'], dtype=object)"
      ]
     },
     "execution_count": null,
     "metadata": {},
     "output_type": "execute_result"
    }
   ],
   "source": [
    "#| export\n",
    "vectorizer.get_feature_names_out()\n"
   ]
  },
  {
   "cell_type": "code",
   "execution_count": null,
   "metadata": {},
   "outputs": [
    {
     "name": "stdout",
     "output_type": "stream",
     "text": [
      "(7, 10)\n",
      "  (0, 2)\t0.4909351772896394\n",
      "  (0, 3)\t0.574349809439609\n",
      "  (0, 5)\t0.32867221561769566\n",
      "  (0, 4)\t0.4262337619707113\n",
      "  (0, 6)\t0.3733688564054657\n",
      "  (1, 2)\t0.8318622454204605\n",
      "  (1, 5)\t0.278458358596851\n",
      "  (1, 4)\t0.3611146549575728\n",
      "  (1, 6)\t0.31632633963432505\n",
      "  (2, 0)\t0.7261823975498022\n",
      "  (2, 5)\t0.34494928949492065\n",
      "  (2, 4)\t0.44734244747224067\n",
      "  (2, 6)\t0.391859474627469\n",
      "  (3, 2)\t0.4909351772896394\n",
      "  (3, 3)\t0.574349809439609\n",
      "  (3, 5)\t0.32867221561769566\n",
      "  (3, 4)\t0.4262337619707113\n",
      "  (3, 6)\t0.3733688564054657\n",
      "  (4, 1)\t0.9654757443644331\n",
      "  (4, 6)\t0.2604929692792953\n",
      "  (5, 7)\t0.6703048932359149\n",
      "  (5, 9)\t0.6703048932359149\n",
      "  (5, 5)\t0.3184065015165011\n",
      "  (6, 8)\t0.9032714057819105\n",
      "  (6, 5)\t0.42906965343259995\n"
     ]
    }
   ],
   "source": [
    "#| export\n",
    "print(X.shape)\n",
    "print(X)"
   ]
  },
  {
   "cell_type": "code",
   "execution_count": null,
   "metadata": {},
   "outputs": [],
   "source": [
    "#| export\n",
    "Z = vectorizer.fit(corpus)"
   ]
  },
  {
   "cell_type": "code",
   "execution_count": null,
   "metadata": {},
   "outputs": [
    {
     "data": {
      "text/plain": [
       "array([2.38629436, 2.38629436, 1.69314718, 1.98082925, 1.47000363,\n",
       "       1.13353139, 1.28768207, 2.38629436, 2.38629436, 2.38629436])"
      ]
     },
     "execution_count": null,
     "metadata": {},
     "output_type": "execute_result"
    }
   ],
   "source": [
    "#| export\n",
    "Z.idf_\n"
   ]
  },
  {
   "cell_type": "code",
   "execution_count": null,
   "metadata": {},
   "outputs": [],
   "source": []
  }
 ],
 "metadata": {
  "kernelspec": {
   "display_name": "Python 3",
   "language": "python",
   "name": "python3"
  }
 },
 "nbformat": 4,
 "nbformat_minor": 2
}
