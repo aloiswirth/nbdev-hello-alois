{
 "cells": [
  {
   "cell_type": "code",
   "execution_count": null,
   "metadata": {},
   "outputs": [],
   "source": [
    "#| default_exp quick_test\n"
   ]
  },
  {
   "attachments": {},
   "cell_type": "markdown",
   "metadata": {},
   "source": [
    "# Quick test for change in nbdev files\n",
    "\n",
    "Checking if a changed setup does have influence on nbdev functionality after initial creation. \n"
   ]
  },
  {
   "attachments": {},
   "cell_type": "markdown",
   "metadata": {},
   "source": [
    "\n",
    "## Test 1: Move files into separate folder\n",
    "The following files have been moved to a new folder (nbdev_files)  \n",
    "- licence  \n",
    "- MANIFEST.in  \n",
    "- README.md  \n",
    "- settings.ini  \n",
    "- setup.py   \n"
   ]
  },
  {
   "cell_type": "code",
   "execution_count": null,
   "metadata": {},
   "outputs": [],
   "source": [
    "#| export \n",
    "import loguru\n",
    "from nbdev_hello_alois.card import *\n"
   ]
  },
  {
   "cell_type": "code",
   "execution_count": null,
   "metadata": {},
   "outputs": [
    {
     "name": "stderr",
     "output_type": "stream",
     "text": [
      "2023-01-11 12:17:23.471 | INFO     | __main__:<module>:3 - this is a log\n"
     ]
    }
   ],
   "source": [
    "#| export\n",
    "mylog = loguru.logger\n",
    "mylog.info('this is a log')\n",
    "\n"
   ]
  }
 ],
 "metadata": {
  "kernelspec": {
   "display_name": "Python 3",
   "language": "python",
   "name": "python3"
  }
 },
 "nbformat": 4,
 "nbformat_minor": 2
}
