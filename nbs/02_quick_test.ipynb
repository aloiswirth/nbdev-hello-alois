{
 "cells": [
  {
   "cell_type": "code",
   "execution_count": null,
   "metadata": {},
   "outputs": [],
   "source": [
    "#| default_exp quick_test\n"
   ]
  },
  {
   "attachments": {},
   "cell_type": "markdown",
   "metadata": {},
   "source": [
    "# Quick test for change in nbdev files\n",
    "\n",
    "Checking if a changed setup does have influence on nbdev functionality after initial creation. \n",
    "\n",
    "## Test 1: Move files into separate folder\n",
    "The following files have been moved to a new folder (nbdev_files)\n",
    "- licence\n",
    "- MANIFEST.in\n",
    "- README.md\n",
    "- settings.ini\n",
    "- setup.py \n"
   ]
  },
  {
   "cell_type": "code",
   "execution_count": null,
   "metadata": {},
   "outputs": [],
   "source": [
    "\n",
    "import loguru\n",
    "from nbdev_hello_alois.card import *\n",
    "\n"
   ]
  }
 ],
 "metadata": {
  "kernelspec": {
   "display_name": "Python 3",
   "language": "python",
   "name": "python3"
  }
 },
 "nbformat": 4,
 "nbformat_minor": 2
}
