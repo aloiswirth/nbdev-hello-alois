{
 "cells": [
  {
   "cell_type": "code",
   "execution_count": null,
   "metadata": {},
   "outputs": [],
   "source": [
    "#| default_exp card"
   ]
  },
  {
   "cell_type": "markdown",
   "metadata": {},
   "source": [
    "# Card -- A basic playing card\n",
    "\n",
    "> A simple API for creating and using playing cards\n",
    "\n",
    "In the future we hope to use the nbdev package for better and more documentation. "
   ]
  },
  {
   "cell_type": "markdown",
   "metadata": {},
   "source": [
    "In the future we hope to use the nbdev package for better and more documentation.  \n",
    "More and more services and pipelines will be documented in nbdev.\n"
   ]
  },
  {
   "cell_type": "code",
   "execution_count": null,
   "metadata": {},
   "outputs": [],
   "source": [
    "#| hide\n",
    "from nbdev.showdoc import *\n",
    "from fastcore.test import *\n",
    "from fastcore.utils import patch"
   ]
  },
  {
   "cell_type": "code",
   "execution_count": null,
   "metadata": {},
   "outputs": [],
   "source": [
    "#| export\n",
    "suits = [\"♦️\",\"❤️\",\"♠️\",\"♣️\"]\n",
    "ranks = [None, \"A\"] + [str(x) for x in range(2,11)] + [\"J\", \"Q\", \"K\"]"
   ]
  },
  {
   "cell_type": "markdown",
   "metadata": {},
   "source": [
    "We will be using numbers to represent playing card clubs and ranks. These are the suits:"
   ]
  },
  {
   "cell_type": "code",
   "execution_count": null,
   "metadata": {},
   "outputs": [
    {
     "data": {
      "text/plain": [
       "['♦️', '❤️', '♠️', '♣️']"
      ]
     },
     "execution_count": null,
     "metadata": {},
     "output_type": "execute_result"
    }
   ],
   "source": [
    "suits "
   ]
  },
  {
   "cell_type": "markdown",
   "metadata": {},
   "source": [
    "Fopr onstance the suit at index `1`:"
   ]
  },
  {
   "cell_type": "code",
   "execution_count": null,
   "metadata": {},
   "outputs": [
    {
     "data": {
      "text/plain": [
       "'❤️'"
      ]
     },
     "execution_count": null,
     "metadata": {},
     "output_type": "execute_result"
    }
   ],
   "source": [
    "suits[1]"
   ]
  },
  {
   "cell_type": "code",
   "execution_count": null,
   "metadata": {},
   "outputs": [
    {
     "data": {
      "text/plain": [
       "[None, 'A', '2', '3', '4', '5', '6', '7', '8', '9', '10', 'J', 'Q', 'K']"
      ]
     },
     "execution_count": null,
     "metadata": {},
     "output_type": "execute_result"
    }
   ],
   "source": [
    "ranks"
   ]
  },
  {
   "cell_type": "markdown",
   "metadata": {},
   "source": [
    "For instance the rank at index `1` (note that there isn't a playing card at position `0`, since we want the ranks to match the indicies where possible):"
   ]
  },
  {
   "cell_type": "code",
   "execution_count": null,
   "metadata": {},
   "outputs": [
    {
     "data": {
      "text/plain": [
       "'A'"
      ]
     },
     "execution_count": null,
     "metadata": {},
     "output_type": "execute_result"
    }
   ],
   "source": [
    "ranks[1]"
   ]
  },
  {
   "cell_type": "code",
   "execution_count": null,
   "metadata": {},
   "outputs": [],
   "source": [
    "#| export\n",
    "class Card:\n",
    "    \"A playing card created by passing in a `rank` from `ranks` and a `suit` to `suits`!\"\n",
    "    def __init__(self,\n",
    "                 suit:int,   # an index into `suits`\n",
    "                 rank:int):  # an index into `ranks`\n",
    "        self.suit, self.rank = suit, rank\n",
    "    def __str__(self):\n",
    "        return f'{ranks[self.rank]}{suits[self.suit]}'\n",
    "    __repr__ = __str__\n",
    "    def __eq__(self, a):\n",
    "        return (self.suit, self.rank) == (a.suit, a.rank)\n",
    "    def __lt__(self, a): \n",
    "        return (self.suit,self.rank)<(a.suit,a.rank)\n",
    "    def __gt__(self, a): \n",
    "        return (self.suit,self.rank)>(a.suit,a.rank)"
   ]
  },
  {
   "cell_type": "markdown",
   "metadata": {},
   "source": [
    "Here is an example of creating and displaying a card"
   ]
  },
  {
   "cell_type": "code",
   "execution_count": null,
   "metadata": {},
   "outputs": [
    {
     "data": {
      "text/plain": [
       "3❤️"
      ]
     },
     "execution_count": null,
     "metadata": {},
     "output_type": "execute_result"
    }
   ],
   "source": [
    "c = Card(suit=1, rank=3)\n",
    "c"
   ]
  },
  {
   "cell_type": "code",
   "execution_count": null,
   "metadata": {},
   "outputs": [
    {
     "data": {
      "text/markdown": [
       "---\n",
       "\n",
       "[source](https://github.com/aloiswirth/nbdev-hello-alois/blob/main/nbdev_hello_alois/card.py#L11){target=\"_blank\" style=\"float:right; font-size:smaller\"}\n",
       "\n",
       "### Card\n",
       "\n",
       ">      Card (suit:int, rank:int)\n",
       "\n",
       "A playing card created by passing in a `rank` from `ranks` and a `suit` to `suits`!\n",
       "\n",
       "|    | **Type** | **Details** |\n",
       "| -- | -------- | ----------- |\n",
       "| suit | int | an index into `suits` |\n",
       "| rank | int | an index into `ranks` |"
      ],
      "text/plain": [
       "---\n",
       "\n",
       "[source](https://github.com/aloiswirth/nbdev-hello-alois/blob/main/nbdev_hello_alois/card.py#L11){target=\"_blank\" style=\"float:right; font-size:smaller\"}\n",
       "\n",
       "### Card\n",
       "\n",
       ">      Card (suit:int, rank:int)\n",
       "\n",
       "A playing card created by passing in a `rank` from `ranks` and a `suit` to `suits`!\n",
       "\n",
       "|    | **Type** | **Details** |\n",
       "| -- | -------- | ----------- |\n",
       "| suit | int | an index into `suits` |\n",
       "| rank | int | an index into `ranks` |"
      ]
     },
     "execution_count": null,
     "metadata": {},
     "output_type": "execute_result"
    }
   ],
   "source": [
    "show_doc(Card)"
   ]
  },
  {
   "cell_type": "markdown",
   "metadata": {},
   "source": [
    "## Comparison Operators\n",
    "\n",
    "Equality, less than and greater than work on rank and suit indices"
   ]
  },
  {
   "cell_type": "code",
   "execution_count": null,
   "metadata": {},
   "outputs": [],
   "source": [
    "# #| export\n",
    "# @patch\n",
    "# def __eq__(self:Card, a:Card):\n",
    "#     return (self.suit, self.rank) == (a.suit, a.rank)\n",
    "# @patch\n",
    "# def __lt__(self:Card, a:Card): \n",
    "#     return (self.suit,self.rank)<(a.suit,a.rank)\n",
    "# @patch\n",
    "# def __gt__(self:Card, a:Card): \n",
    "#     return (self.suit,self.rank)>(a.suit,a.rank)"
   ]
  },
  {
   "attachments": {},
   "cell_type": "markdown",
   "metadata": {},
   "source": [
    "For instance here's some tests for equality ..."
   ]
  },
  {
   "cell_type": "code",
   "execution_count": null,
   "metadata": {},
   "outputs": [],
   "source": [
    "test_eq(Card(1, 3), Card(1, 3))\n",
    "test_ne(Card(2, 3), Card(1, 3))\n",
    "test_ne(Card(1, 2), Card(1, 3))"
   ]
  },
  {
   "attachments": {},
   "cell_type": "markdown",
   "metadata": {},
   "source": [
    ".. and tests of `<` ..."
   ]
  },
  {
   "cell_type": "code",
   "execution_count": null,
   "metadata": {},
   "outputs": [],
   "source": [
    "assert not Card(suit=4, rank=3) < Card(suit=2, rank=4)"
   ]
  },
  {
   "attachments": {},
   "cell_type": "markdown",
   "metadata": {},
   "source": [
    "...  and finally `>`:"
   ]
  },
  {
   "cell_type": "code",
   "execution_count": null,
   "metadata": {},
   "outputs": [],
   "source": [
    "assert Card(suit=4, rank=3) > Card(suit=2, rank=4)\n",
    "assert not Card(suit=1, rank=3) > Card(suit=2, rank=4)\n"
   ]
  },
  {
   "cell_type": "code",
   "execution_count": null,
   "metadata": {},
   "outputs": [],
   "source": []
  },
  {
   "cell_type": "code",
   "execution_count": null,
   "metadata": {},
   "outputs": [],
   "source": []
  }
 ],
 "metadata": {
  "kernelspec": {
   "display_name": "Python 3",
   "language": "python",
   "name": "python3"
  }
 },
 "nbformat": 4,
 "nbformat_minor": 4
}
