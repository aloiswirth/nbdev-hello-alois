{
 "cells": [
  {
   "cell_type": "code",
   "execution_count": null,
   "metadata": {},
   "outputs": [],
   "source": [
    "#| default_exp objecttstorage"
   ]
  },
  {
   "attachments": {},
   "cell_type": "markdown",
   "metadata": {},
   "source": [
    "# Object Storage with Minio"
   ]
  },
  {
   "cell_type": "code",
   "execution_count": null,
   "metadata": {},
   "outputs": [],
   "source": [
    "#| export\n",
    "import urllib3\n",
    "from minio import Minio\n",
    "import pickle\n",
    "import getpass\n",
    "import sys\n"
   ]
  },
  {
   "attachments": {},
   "cell_type": "markdown",
   "metadata": {},
   "source": [
    "Which user do you want:  \n",
    "mcc-stc-datamodel-storage-readwrite-user or   \n",
    "p1c-datamodel-storage-readwrite-user.   \n",
    "Then enter the password"
   ]
  },
  {
   "cell_type": "code",
   "execution_count": null,
   "metadata": {},
   "outputs": [],
   "source": [
    "# #| export\n",
    "# user = getpass.getuser()\n",
    "# pw = getpass.getpass(f'enter the password for {user}')"
   ]
  },
  {
   "cell_type": "code",
   "execution_count": null,
   "metadata": {},
   "outputs": [],
   "source": [
    "#| export\n",
    "user = 'fake'\n",
    "pw = 'pw_fake'"
   ]
  },
  {
   "cell_type": "code",
   "execution_count": null,
   "metadata": {},
   "outputs": [],
   "source": [
    "#| export\n",
    "httpClient = urllib3.PoolManager(cert_reqs='CERT_REQUIRED',ca_certs='./ca/cacert.crt')"
   ]
  },
  {
   "cell_type": "code",
   "execution_count": null,
   "metadata": {},
   "outputs": [],
   "source": [
    "# #| export\n",
    "# try:\n",
    "#     client = Minio(\"objectstore.datalake.c.eu-nl-1.cloud.sap:443\",\n",
    "#                     access_key=user,\n",
    "#                         secret_key=pw,\n",
    "#                         region=\"eu-nl-1\",\n",
    "#                         secure=True,\n",
    "#                         http_client=httpClient)\n",
    "# except:\n",
    "#     has_no_connection = True"
   ]
  },
  {
   "cell_type": "code",
   "execution_count": null,
   "metadata": {},
   "outputs": [
    {
     "name": "stdout",
     "output_type": "stream",
     "text": [
      "1\n"
     ]
    },
    {
     "data": {
      "text/plain": [
       "[Bucket('mcc-stc-datamodel-storage')]"
      ]
     },
     "execution_count": null,
     "metadata": {},
     "output_type": "execute_result"
    }
   ],
   "source": [
    "# #| export\n",
    "# # list all buckets\n",
    "# if has_no_connection == False:\n",
    "#     bucket_list = client.list_buckets()\n",
    "#     print(len(bucket_list))\n",
    "#     bucket_list"
   ]
  },
  {
   "cell_type": "code",
   "execution_count": null,
   "metadata": {},
   "outputs": [
    {
     "name": "stdout",
     "output_type": "stream",
     "text": [
      "mcc-stc-datamodel-storage\n"
     ]
    }
   ],
   "source": [
    "# #| export\n",
    "# if has_no_connection == False: \n",
    "#     for bucket in bucket_list:\n",
    "#         print(bucket.name)"
   ]
  },
  {
   "cell_type": "code",
   "execution_count": null,
   "metadata": {},
   "outputs": [
    {
     "data": {
      "text/plain": [
       "<minio.helpers.ObjectWriteResult>"
      ]
     },
     "execution_count": null,
     "metadata": {},
     "output_type": "execute_result"
    }
   ],
   "source": [
    "# #| export\n",
    "\n",
    "# # upload p1c_vectorizer_model to object storage in bucket p1c_datamodel_storage.\n",
    "# if has_no_connection == False: \n",
    "#     client.fput_object(\"mcc-stc-datamodel-storage\", \"svcprovider/vectorizer_model\", 'vectorizer_model')\n",
    "#     client.fput_object('mcc-stc-datamodel-storage', 'svcprovider/categorization_model', 'categorization_model')"
   ]
  },
  {
   "attachments": {},
   "cell_type": "markdown",
   "metadata": {},
   "source": [
    "You can also remove objects"
   ]
  },
  {
   "cell_type": "code",
   "execution_count": null,
   "metadata": {},
   "outputs": [],
   "source": [
    "# if has_no_connection == False: \n",
    "#     client.remove_object(\"p1c-datamodel-storage\", \"p1c_judging_model\")"
   ]
  },
  {
   "cell_type": "code",
   "execution_count": null,
   "metadata": {},
   "outputs": [
    {
     "name": "stdout",
     "output_type": "stream",
     "text": [
      "created /test/cars object; etag: 7478d3eb004e8c6e6154e611a39acf46, version-id: None\n"
     ]
    }
   ],
   "source": [
    "# #| export\n",
    "# # upload a file to bucket\n",
    "# if has_no_connection == False: \n",
    "#     result = client.fput_object(\"p1c-datamodel-storage\", \"/test/cars\", \"./carlist.pkl\")\n",
    "#     print(\"created {0} object; etag: {1}, version-id: {2}\".format(result.object_name, result.etag, result.version_id))"
   ]
  },
  {
   "cell_type": "code",
   "execution_count": null,
   "metadata": {},
   "outputs": [
    {
     "data": {
      "text/plain": [
       "<minio.datatypes.Object>"
      ]
     },
     "execution_count": null,
     "metadata": {},
     "output_type": "execute_result"
    }
   ],
   "source": [
    "# # download a file from bucket\n",
    "# if has_no_connection == False: \n",
    "#     client.fget_object(\"p1c-datamodel-storage\", \"cars\", \"./download/new_carlist.pkl\")"
   ]
  },
  {
   "cell_type": "code",
   "execution_count": null,
   "metadata": {},
   "outputs": [],
   "source": [
    "# if has_no_connection == False:\n",
    "#     client.remove_object(\"p1c-datamodel-storage\", \"cars\")"
   ]
  },
  {
   "cell_type": "code",
   "execution_count": null,
   "metadata": {},
   "outputs": [],
   "source": []
  }
 ],
 "metadata": {
  "kernelspec": {
   "display_name": "Python 3",
   "language": "python",
   "name": "python3"
  }
 },
 "nbformat": 4,
 "nbformat_minor": 2
}
